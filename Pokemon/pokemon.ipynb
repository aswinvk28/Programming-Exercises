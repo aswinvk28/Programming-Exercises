{
 "cells": [
  {
   "cell_type": "code",
   "execution_count": 10,
   "id": "64222a17",
   "metadata": {},
   "outputs": [
    {
     "name": "stdout",
     "output_type": "stream",
     "text": [
      "Type\n",
      "Bug          83\n",
      "Dark         60\n",
      "Dragon       61\n",
      "Electric     62\n",
      "Fairy        53\n",
      "Fighting     63\n",
      "Fire         74\n",
      "Flying      113\n",
      "Ghost        57\n",
      "Grass       109\n",
      "Ground       75\n",
      "Ice          44\n",
      "Normal      117\n",
      "Poison       71\n",
      "Psychic     103\n",
      "Rock         70\n",
      "Steel        62\n",
      "Water       143\n",
      "Name: Total, dtype: int64\n",
      "----------------------\n",
      "Total    61459\n",
      "Name: Water, dtype: int64\n",
      "----------------------\n",
      "#          406.546479\n",
      "Total      445.802113\n",
      "HP          70.176056\n",
      "Attack      81.567606\n",
      "Defense     76.519014\n",
      "Sp. Atk     74.736620\n",
      "Sp. Def     73.497183\n",
      "Speed       69.305634\n",
      "dtype: float64\n",
      "#          57095.751890\n",
      "Total      14526.891750\n",
      "HP           656.139525\n",
      "Attack      1082.489436\n",
      "Defense     1009.010914\n",
      "Sp. Atk     1124.662083\n",
      "Sp. Def      773.087378\n",
      "Speed        861.528791\n",
      "dtype: float64\n"
     ]
    },
    {
     "name": "stderr",
     "output_type": "stream",
     "text": [
      "C:\\Users\\burse\\AppData\\Local\\Temp/ipykernel_28840/1185545499.py:12: FutureWarning: Dropping of nuisance columns in DataFrame reductions (with 'numeric_only=None') is deprecated; in a future version this will raise TypeError.  Select only valid columns before calling the reduction.\n",
      "  print(df.mean())\n",
      "C:\\Users\\burse\\AppData\\Local\\Temp/ipykernel_28840/1185545499.py:13: FutureWarning: Dropping of nuisance columns in DataFrame reductions (with 'numeric_only=None') is deprecated; in a future version this will raise TypeError.  Select only valid columns before calling the reduction.\n",
      "  print(df.var())\n",
      "C:\\Users\\burse\\AppData\\Local\\Temp/ipykernel_28840/1185545499.py:15: FutureWarning: Dropping of nuisance columns in DataFrame reductions (with 'numeric_only=None') is deprecated; in a future version this will raise TypeError.  Select only valid columns before calling the reduction.\n",
      "  df.mean().plot(kind='bar')\n",
      "C:\\Users\\burse\\AppData\\Local\\Temp/ipykernel_28840/1185545499.py:17: FutureWarning: Dropping of nuisance columns in DataFrame reductions (with 'numeric_only=None') is deprecated; in a future version this will raise TypeError.  Select only valid columns before calling the reduction.\n",
      "  df.var().plot(kind='bar')\n"
     ]
    },
    {
     "data": {
      "image/png": "[encoded data removed]",
      "text/plain": [
       "<Figure size 432x288 with 2 Axes>"
      ]
     },
     "metadata": {
      "needs_background": "light"
     },
     "output_type": "display_data"
    },
    {
     "name": "stdout",
     "output_type": "stream",
     "text": [
      "----------------------\n",
      "exit:\n"
     ]
    }
   ],
   "source": [
    "import numpy as np\n",
    "import pandas as pd\n",
    "import matplotlib.pyplot as plt\n",
    "\n",
    "def pokemon_type(df):\n",
    "  return df.groupby('Type')['Total'].agg('count')\n",
    "\n",
    "def powerful_pokemon(df):\n",
    "  return df.groupby('Type')['Total'].agg('sum').sort_values(ascending=False).to_frame().iloc[0, :]\n",
    "  \n",
    "def plot_pokemon(df):\n",
    "  print(df.mean())\n",
    "  print(df.var())\n",
    "  plt.subplot(1,2,1)\n",
    "  df.mean().plot(kind='bar')\n",
    "  plt.subplot(1,2,2)\n",
    "  df.var().plot(kind='bar')\n",
    "  plt.show()\n",
    "\n",
    "if __name__ == \"__main__\":\n",
    "  \n",
    "  df = pd.read_csv(\"all_pokemon.csv\")\n",
    "  print(pokemon_type(df))\n",
    "  print(\"----------------------\")\n",
    "  print(powerful_pokemon(df))\n",
    "  print(\"----------------------\")\n",
    "  plot_pokemon(df)\n",
    "  print(\"----------------------\")\n",
    "  input(\"exit:\")\n"
   ]
  }
 ],
 "metadata": {
  "kernelspec": {
   "display_name": "Python 3 (ipykernel)",
   "language": "python",
   "name": "python3"
  },
  "language_info": {
   "codemirror_mode": {
    "name": "ipython",
    "version": 3
   },
   "file_extension": ".py",
   "mimetype": "text/x-python",
   "name": "python",
   "nbconvert_exporter": "python",
   "pygments_lexer": "ipython3",
   "version": "3.9.7"
  }
 },
 "nbformat": 4,
 "nbformat_minor": 5
}
