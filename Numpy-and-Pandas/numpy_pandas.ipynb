{
 "cells": [
  {
   "cell_type": "code",
   "execution_count": 1,
   "id": "1b7e5932",
   "metadata": {},
   "outputs": [
    {
     "name": "stderr",
     "output_type": "stream",
     "text": [
      "No handles with labels found to put in legend.\n",
      "C:\\Users\\burse\\AppData\\Local\\Temp/ipykernel_3308/601746807.py:20: UserWarning: Matplotlib is currently using module://matplotlib_inline.backend_inline, which is a non-GUI backend, so cannot show the figure.\n",
      "  fig.show()\n"
     ]
    },
    {
     "name": "stdout",
     "output_type": "stream",
     "text": [
      "First 5 rows:     rank discipline  phd  service   sex  salary\n",
      "0  Prof          B   56       49  Male  186960\n",
      "1  Prof          A   12        6  Male   93000\n",
      "2  Prof          A   23       20  Male  110515\n",
      "3  Prof          A   40       31  Male  131205\n",
      "4  Prof          B   20       18  Male  104800\n",
      "Last 5 rows:           rank discipline  phd  service     sex  salary\n",
      "73       Prof          B   18       10  Female  105450\n",
      "74  AssocProf          B   19        6  Female  104542\n",
      "75       Prof          B   17       17  Female  124312\n",
      "76       Prof          A   28       14  Female  109954\n",
      "77       Prof          A   23       15  Female  109646\n",
      "rank            Prof\n",
      "discipline         B\n",
      "phd               56\n",
      "service           49\n",
      "sex             Male\n",
      "salary        186960\n",
      "Name: 0, dtype: object\n",
      "108023.78205128205\n",
      "exit: \n"
     ]
    },
    {
     "data": {
      "image/png": "[encoded data removed]",
      "text/plain": [
       "<Figure size 864x576 with 1 Axes>"
      ]
     },
     "metadata": {
      "needs_background": "light"
     },
     "output_type": "display_data"
    }
   ],
   "source": [
    "import matplotlib.pyplot as plt\n",
    "import pandas as pd\n",
    "\n",
    "def print_rows(df):\n",
    "  print(\"First 5 rows: \", df.head(5))\n",
    "  print(\"Last 5 rows: \", df.tail(5))\n",
    "  \n",
    "def highest_paid(df):\n",
    "  return df.loc[df['salary'].rank(method='max').index[0]]\n",
    "\n",
    "def average_salary(df):\n",
    "  return df.salary.mean()\n",
    "\n",
    "def plot_salaries(df):\n",
    "  fig, ax = plt.subplots(1,1, figsize=(12,8))\n",
    "  df.salary[df.sex == 'Male'].hist(ax=ax)\n",
    "  df.salary[df.sex == 'Female'].hist(ax=ax)\n",
    "  ax.legend()\n",
    "  ax.set(xlabel=\"Salary\", ylabel=\"Count\")\n",
    "  fig.show()\n",
    "  input(\"exit: \")\n",
    "  \n",
    "if __name__ == \"__main__\":\n",
    "  \n",
    "  df = pd.read_csv(\"Salaries.csv\")\n",
    "  print_rows(df)\n",
    "  print(highest_paid(df))\n",
    "  print(average_salary(df))\n",
    "  plot_salaries(df)"
   ]
  }
 ],
 "metadata": {
  "kernelspec": {
   "display_name": "Python 3 (ipykernel)",
   "language": "python",
   "name": "python3"
  },
  "language_info": {
   "codemirror_mode": {
    "name": "ipython",
    "version": 3
   },
   "file_extension": ".py",
   "mimetype": "text/x-python",
   "name": "python",
   "nbconvert_exporter": "python",
   "pygments_lexer": "ipython3",
   "version": "3.9.7"
  }
 },
 "nbformat": 4,
 "nbformat_minor": 5
}
