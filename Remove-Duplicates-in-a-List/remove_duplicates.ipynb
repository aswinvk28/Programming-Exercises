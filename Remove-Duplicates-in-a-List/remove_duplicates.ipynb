{
 "cells": [
  {
   "cell_type": "code",
   "execution_count": 1,
   "id": "4d704f05",
   "metadata": {},
   "outputs": [
    {
     "name": "stdout",
     "output_type": "stream",
     "text": [
      "[2, 8, 5, 3, 1, 6, 9, 7, 4]\n"
     ]
    }
   ],
   "source": [
    "def remove_duplicates(elements, method='sets'):\n",
    "  if method == 'sets':\n",
    "    return list(set(elements))\n",
    "  elif method == 'loop':\n",
    "    array = []\n",
    "    for ii, e in enumerate(elements[1:]):\n",
    "      if e not in array:\n",
    "        array.append(e)\n",
    "    return array\n",
    "  \n",
    "if __name__ == \"__main__\":\n",
    "  \n",
    "  elements = [1,2,8,5,3,5,2,5,1,6,9,8,7,3,4,7]\n",
    "  print(remove_duplicates(elements, method='loop'))\n"
   ]
  }
 ],
 "metadata": {
  "kernelspec": {
   "display_name": "Python 3 (ipykernel)",
   "language": "python",
   "name": "python3"
  },
  "language_info": {
   "codemirror_mode": {
    "name": "ipython",
    "version": 3
   },
   "file_extension": ".py",
   "mimetype": "text/x-python",
   "name": "python",
   "nbconvert_exporter": "python",
   "pygments_lexer": "ipython3",
   "version": "3.9.7"
  }
 },
 "nbformat": 4,
 "nbformat_minor": 5
}
